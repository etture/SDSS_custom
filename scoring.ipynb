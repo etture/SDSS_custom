{
 "cells": [
  {
   "cell_type": "code",
   "execution_count": 1,
   "metadata": {},
   "outputs": [],
   "source": [
    "import pandas as pd\n",
    "from sklearn.metrics import log_loss\n",
    "import pickle"
   ]
  },
  {
   "cell_type": "code",
   "execution_count": 2,
   "metadata": {},
   "outputs": [],
   "source": [
    "rename_dict = {'STAR_WHITE_DWARF': 0, 'STAR_CATY_VAR':1, 'STAR_BROWN_DWARF':2,\n",
    "       'SERENDIPITY_RED':3, 'REDDEN_STD':4, 'STAR_BHB':5, 'GALAXY':6,\n",
    "       'SERENDIPITY_DISTANT':7, 'QSO':8, 'SKY':9, 'STAR_RED_DWARF':10, 'ROSAT_D':11,\n",
    "       'STAR_PN':12, 'SERENDIPITY_FIRST':13, 'STAR_CARBON':14, 'SPECTROPHOTO_STD':15,\n",
    "       'STAR_SUB_DWARF':16, 'SERENDIPITY_MANUAL':17, 'SERENDIPITY_BLUE':18}"
   ]
  },
  {
   "cell_type": "code",
   "execution_count": 21,
   "metadata": {},
   "outputs": [
    {
     "data": {
      "text/plain": [
       "1.830084925229225e-14"
      ]
     },
     "execution_count": 21,
     "metadata": {},
     "output_type": "execute_result"
    }
   ],
   "source": [
    "sample_ground_truth = get_ground_truth('ybigta_validate2.pickle')\n",
    "sample_val = []\n",
    "for t in sample_ground_truth:\n",
    "    template = []\n",
    "    for i in range(19):\n",
    "        template.append(0)\n",
    "    template[t] = 1\n",
    "    sample_val.append(template)\n",
    "log_loss(sample_ground_truth, sample_val)"
   ]
  },
  {
   "cell_type": "code",
   "execution_count": 5,
   "metadata": {},
   "outputs": [],
   "source": [
    "def get_ground_truth(filename):\n",
    "    pickle_in = open(filename,\"rb\")\n",
    "    validate = pickle.load(pickle_in)\n",
    "    validate2 = list()\n",
    "    for v in validate:\n",
    "        validate2.append(rename_dict[v])\n",
    "    return validate2"
   ]
  },
  {
   "cell_type": "code",
   "execution_count": 6,
   "metadata": {},
   "outputs": [],
   "source": [
    "def get_submission_file(filename):\n",
    "    sub = pd.read_csv(filename)\n",
    "    renamed = sub.rename(columns=rename_dict)\n",
    "    return renamed"
   ]
  },
  {
   "cell_type": "code",
   "execution_count": 7,
   "metadata": {},
   "outputs": [],
   "source": [
    "def get_score(submission_filename, ground_truth_filename):\n",
    "    ground_truth = get_ground_truth(ground_truth_filename)\n",
    "    submission = get_submission_file(submission_filename)\n",
    "    return log_loss(ground_truth, submission[submission.columns[1:]].values)"
   ]
  },
  {
   "cell_type": "code",
   "execution_count": 9,
   "metadata": {},
   "outputs": [
    {
     "data": {
      "text/plain": [
       "0.6340371900347044"
      ]
     },
     "execution_count": 9,
     "metadata": {},
     "output_type": "execute_result"
    }
   ],
   "source": [
    "get_score('./submission_gunwook_1.csv', 'ybigta_validate2.pickle')"
   ]
  },
  {
   "cell_type": "code",
   "execution_count": 27,
   "metadata": {},
   "outputs": [
    {
     "data": {
      "text/plain": [
       "0.39495287680731184"
      ]
     },
     "execution_count": 27,
     "metadata": {},
     "output_type": "execute_result"
    }
   ],
   "source": [
    "get_score('./submission_gunwook_3.csv', 'ybigta_validate_full.pickle')"
   ]
  },
  {
   "cell_type": "code",
   "execution_count": 14,
   "metadata": {},
   "outputs": [
    {
     "data": {
      "text/plain": [
       "0.716481019551703"
      ]
     },
     "execution_count": 14,
     "metadata": {},
     "output_type": "execute_result"
    }
   ],
   "source": [
    "get_score('./submission_jinoo_lgbm.csv', 'ybigta_validate2.pickle')"
   ]
  },
  {
   "cell_type": "code",
   "execution_count": 26,
   "metadata": {},
   "outputs": [
    {
     "data": {
      "text/plain": [
       "0.47515184013111134"
      ]
     },
     "execution_count": 26,
     "metadata": {},
     "output_type": "execute_result"
    }
   ],
   "source": [
    "get_score('./submission_jinoo_lgbm_3.csv', 'ybigta_validate_full.pickle')"
   ]
  },
  {
   "cell_type": "code",
   "execution_count": 15,
   "metadata": {},
   "outputs": [
    {
     "data": {
      "text/plain": [
       "0.6384136125696176"
      ]
     },
     "execution_count": 15,
     "metadata": {},
     "output_type": "execute_result"
    }
   ],
   "source": [
    "get_score('./submission_jinoo_rf.csv', 'ybigta_validate2.pickle')"
   ]
  },
  {
   "cell_type": "code",
   "execution_count": 25,
   "metadata": {},
   "outputs": [
    {
     "data": {
      "text/plain": [
       "0.42238507958861665"
      ]
     },
     "execution_count": 25,
     "metadata": {},
     "output_type": "execute_result"
    }
   ],
   "source": [
    "get_score('./submission_jinoo_rf_3.csv', 'ybigta_validate_full.pickle')"
   ]
  },
  {
   "cell_type": "code",
   "execution_count": 22,
   "metadata": {},
   "outputs": [
    {
     "data": {
      "text/plain": [
       "0.6210792251359032"
      ]
     },
     "execution_count": 22,
     "metadata": {},
     "output_type": "execute_result"
    }
   ],
   "source": [
    "get_score('./ymj_lgbm_out.csv', 'ybigta_validate2.pickle')"
   ]
  },
  {
   "cell_type": "code",
   "execution_count": 23,
   "metadata": {},
   "outputs": [
    {
     "data": {
      "text/plain": [
       "0.38267969128000895"
      ]
     },
     "execution_count": 23,
     "metadata": {},
     "output_type": "execute_result"
    }
   ],
   "source": [
    "get_score('./ymj_lgbm_out_full.csv', 'ybigta_validate_full.pickle')"
   ]
  },
  {
   "cell_type": "markdown",
   "metadata": {},
   "source": [
    "# ==============================="
   ]
  },
  {
   "cell_type": "code",
   "execution_count": 10,
   "metadata": {},
   "outputs": [],
   "source": [
    "test = pd.read_csv('./test.csv')"
   ]
  },
  {
   "cell_type": "code",
   "execution_count": 11,
   "metadata": {},
   "outputs": [
    {
     "data": {
      "text/html": [
       "<div>\n",
       "<style scoped>\n",
       "    .dataframe tbody tr th:only-of-type {\n",
       "        vertical-align: middle;\n",
       "    }\n",
       "\n",
       "    .dataframe tbody tr th {\n",
       "        vertical-align: top;\n",
       "    }\n",
       "\n",
       "    .dataframe thead th {\n",
       "        text-align: right;\n",
       "    }\n",
       "</style>\n",
       "<table border=\"1\" class=\"dataframe\">\n",
       "  <thead>\n",
       "    <tr style=\"text-align: right;\">\n",
       "      <th></th>\n",
       "      <th>id</th>\n",
       "      <th>fiberID</th>\n",
       "      <th>psfMag_u</th>\n",
       "      <th>psfMag_g</th>\n",
       "      <th>psfMag_r</th>\n",
       "      <th>psfMag_i</th>\n",
       "      <th>psfMag_z</th>\n",
       "      <th>fiberMag_u</th>\n",
       "      <th>fiberMag_g</th>\n",
       "      <th>fiberMag_r</th>\n",
       "      <th>...</th>\n",
       "      <th>petroMag_u</th>\n",
       "      <th>petroMag_g</th>\n",
       "      <th>petroMag_r</th>\n",
       "      <th>petroMag_i</th>\n",
       "      <th>petroMag_z</th>\n",
       "      <th>modelMag_u</th>\n",
       "      <th>modelMag_g</th>\n",
       "      <th>modelMag_r</th>\n",
       "      <th>modelMag_i</th>\n",
       "      <th>modelMag_z</th>\n",
       "    </tr>\n",
       "  </thead>\n",
       "  <tbody>\n",
       "    <tr>\n",
       "      <th>0</th>\n",
       "      <td>199991</td>\n",
       "      <td>251</td>\n",
       "      <td>23.817399</td>\n",
       "      <td>22.508963</td>\n",
       "      <td>20.981106</td>\n",
       "      <td>18.517316</td>\n",
       "      <td>17.076079</td>\n",
       "      <td>25.053890</td>\n",
       "      <td>23.167848</td>\n",
       "      <td>21.335901</td>\n",
       "      <td>...</td>\n",
       "      <td>22.246697</td>\n",
       "      <td>22.796239</td>\n",
       "      <td>21.195315</td>\n",
       "      <td>18.584486</td>\n",
       "      <td>17.154284</td>\n",
       "      <td>25.391534</td>\n",
       "      <td>22.499435</td>\n",
       "      <td>21.011918</td>\n",
       "      <td>18.499341</td>\n",
       "      <td>17.091474</td>\n",
       "    </tr>\n",
       "    <tr>\n",
       "      <th>1</th>\n",
       "      <td>199992</td>\n",
       "      <td>386</td>\n",
       "      <td>22.806983</td>\n",
       "      <td>21.937111</td>\n",
       "      <td>20.335770</td>\n",
       "      <td>20.000512</td>\n",
       "      <td>19.527369</td>\n",
       "      <td>22.498565</td>\n",
       "      <td>22.186000</td>\n",
       "      <td>20.618879</td>\n",
       "      <td>...</td>\n",
       "      <td>21.729831</td>\n",
       "      <td>21.837511</td>\n",
       "      <td>20.196128</td>\n",
       "      <td>19.967204</td>\n",
       "      <td>19.683671</td>\n",
       "      <td>22.475338</td>\n",
       "      <td>21.853442</td>\n",
       "      <td>20.173169</td>\n",
       "      <td>19.796757</td>\n",
       "      <td>19.567372</td>\n",
       "    </tr>\n",
       "    <tr>\n",
       "      <th>2</th>\n",
       "      <td>199993</td>\n",
       "      <td>232</td>\n",
       "      <td>21.024250</td>\n",
       "      <td>19.235669</td>\n",
       "      <td>18.304061</td>\n",
       "      <td>17.808608</td>\n",
       "      <td>17.380113</td>\n",
       "      <td>21.205546</td>\n",
       "      <td>19.439533</td>\n",
       "      <td>18.344433</td>\n",
       "      <td>...</td>\n",
       "      <td>20.722629</td>\n",
       "      <td>18.710223</td>\n",
       "      <td>17.611851</td>\n",
       "      <td>17.158519</td>\n",
       "      <td>16.843986</td>\n",
       "      <td>20.579314</td>\n",
       "      <td>18.653338</td>\n",
       "      <td>17.562108</td>\n",
       "      <td>17.120529</td>\n",
       "      <td>16.708748</td>\n",
       "    </tr>\n",
       "    <tr>\n",
       "      <th>3</th>\n",
       "      <td>199994</td>\n",
       "      <td>557</td>\n",
       "      <td>20.503424</td>\n",
       "      <td>20.286261</td>\n",
       "      <td>20.197204</td>\n",
       "      <td>20.162419</td>\n",
       "      <td>20.059832</td>\n",
       "      <td>20.976132</td>\n",
       "      <td>20.611498</td>\n",
       "      <td>20.567262</td>\n",
       "      <td>...</td>\n",
       "      <td>20.329269</td>\n",
       "      <td>20.385262</td>\n",
       "      <td>20.129157</td>\n",
       "      <td>20.206574</td>\n",
       "      <td>20.212342</td>\n",
       "      <td>20.479879</td>\n",
       "      <td>20.280943</td>\n",
       "      <td>20.150499</td>\n",
       "      <td>20.206221</td>\n",
       "      <td>20.092909</td>\n",
       "    </tr>\n",
       "    <tr>\n",
       "      <th>4</th>\n",
       "      <td>199995</td>\n",
       "      <td>75</td>\n",
       "      <td>24.244851</td>\n",
       "      <td>22.668237</td>\n",
       "      <td>21.239333</td>\n",
       "      <td>19.284777</td>\n",
       "      <td>18.235939</td>\n",
       "      <td>25.681860</td>\n",
       "      <td>22.935289</td>\n",
       "      <td>21.642456</td>\n",
       "      <td>...</td>\n",
       "      <td>22.308298</td>\n",
       "      <td>22.957496</td>\n",
       "      <td>21.285033</td>\n",
       "      <td>19.299120</td>\n",
       "      <td>18.307526</td>\n",
       "      <td>25.489360</td>\n",
       "      <td>22.857290</td>\n",
       "      <td>21.191862</td>\n",
       "      <td>19.237964</td>\n",
       "      <td>18.280368</td>\n",
       "    </tr>\n",
       "  </tbody>\n",
       "</table>\n",
       "<p>5 rows × 22 columns</p>\n",
       "</div>"
      ],
      "text/plain": [
       "       id  fiberID   psfMag_u   psfMag_g   psfMag_r   psfMag_i   psfMag_z  \\\n",
       "0  199991      251  23.817399  22.508963  20.981106  18.517316  17.076079   \n",
       "1  199992      386  22.806983  21.937111  20.335770  20.000512  19.527369   \n",
       "2  199993      232  21.024250  19.235669  18.304061  17.808608  17.380113   \n",
       "3  199994      557  20.503424  20.286261  20.197204  20.162419  20.059832   \n",
       "4  199995       75  24.244851  22.668237  21.239333  19.284777  18.235939   \n",
       "\n",
       "   fiberMag_u  fiberMag_g  fiberMag_r  ...  petroMag_u  petroMag_g  \\\n",
       "0   25.053890   23.167848   21.335901  ...   22.246697   22.796239   \n",
       "1   22.498565   22.186000   20.618879  ...   21.729831   21.837511   \n",
       "2   21.205546   19.439533   18.344433  ...   20.722629   18.710223   \n",
       "3   20.976132   20.611498   20.567262  ...   20.329269   20.385262   \n",
       "4   25.681860   22.935289   21.642456  ...   22.308298   22.957496   \n",
       "\n",
       "   petroMag_r  petroMag_i  petroMag_z  modelMag_u  modelMag_g  modelMag_r  \\\n",
       "0   21.195315   18.584486   17.154284   25.391534   22.499435   21.011918   \n",
       "1   20.196128   19.967204   19.683671   22.475338   21.853442   20.173169   \n",
       "2   17.611851   17.158519   16.843986   20.579314   18.653338   17.562108   \n",
       "3   20.129157   20.206574   20.212342   20.479879   20.280943   20.150499   \n",
       "4   21.285033   19.299120   18.307526   25.489360   22.857290   21.191862   \n",
       "\n",
       "   modelMag_i  modelMag_z  \n",
       "0   18.499341   17.091474  \n",
       "1   19.796757   19.567372  \n",
       "2   17.120529   16.708748  \n",
       "3   20.206221   20.092909  \n",
       "4   19.237964   18.280368  \n",
       "\n",
       "[5 rows x 22 columns]"
      ]
     },
     "execution_count": 11,
     "metadata": {},
     "output_type": "execute_result"
    }
   ],
   "source": [
    "test.head()"
   ]
  },
  {
   "cell_type": "code",
   "execution_count": 12,
   "metadata": {},
   "outputs": [],
   "source": [
    "mytest = pd.read_csv('./ybigta_sdss_test.csv')"
   ]
  },
  {
   "cell_type": "code",
   "execution_count": 13,
   "metadata": {},
   "outputs": [
    {
     "data": {
      "text/html": [
       "<div>\n",
       "<style scoped>\n",
       "    .dataframe tbody tr th:only-of-type {\n",
       "        vertical-align: middle;\n",
       "    }\n",
       "\n",
       "    .dataframe tbody tr th {\n",
       "        vertical-align: top;\n",
       "    }\n",
       "\n",
       "    .dataframe thead th {\n",
       "        text-align: right;\n",
       "    }\n",
       "</style>\n",
       "<table border=\"1\" class=\"dataframe\">\n",
       "  <thead>\n",
       "    <tr style=\"text-align: right;\">\n",
       "      <th></th>\n",
       "      <th>id</th>\n",
       "      <th>fiberID</th>\n",
       "      <th>psfMag_u</th>\n",
       "      <th>psfMag_g</th>\n",
       "      <th>psfMag_r</th>\n",
       "      <th>psfMag_i</th>\n",
       "      <th>psfMag_z</th>\n",
       "      <th>fiberMag_u</th>\n",
       "      <th>fiberMag_g</th>\n",
       "      <th>fiberMag_r</th>\n",
       "      <th>...</th>\n",
       "      <th>petroMag_u</th>\n",
       "      <th>petroMag_g</th>\n",
       "      <th>petroMag_r</th>\n",
       "      <th>petroMag_i</th>\n",
       "      <th>petroMag_z</th>\n",
       "      <th>modelMag_u</th>\n",
       "      <th>modelMag_g</th>\n",
       "      <th>modelMag_r</th>\n",
       "      <th>modelMag_i</th>\n",
       "      <th>modelMag_z</th>\n",
       "    </tr>\n",
       "  </thead>\n",
       "  <tbody>\n",
       "    <tr>\n",
       "      <th>0</th>\n",
       "      <td>22121</td>\n",
       "      <td>524</td>\n",
       "      <td>20.25184</td>\n",
       "      <td>19.21797</td>\n",
       "      <td>18.81325</td>\n",
       "      <td>18.63427</td>\n",
       "      <td>18.57789</td>\n",
       "      <td>20.55951</td>\n",
       "      <td>19.53614</td>\n",
       "      <td>19.14778</td>\n",
       "      <td>...</td>\n",
       "      <td>20.31346</td>\n",
       "      <td>19.24276</td>\n",
       "      <td>18.84517</td>\n",
       "      <td>18.65059</td>\n",
       "      <td>18.63834</td>\n",
       "      <td>20.24235</td>\n",
       "      <td>19.21357</td>\n",
       "      <td>18.80395</td>\n",
       "      <td>18.62018</td>\n",
       "      <td>18.57158</td>\n",
       "    </tr>\n",
       "    <tr>\n",
       "      <th>1</th>\n",
       "      <td>28799</td>\n",
       "      <td>281</td>\n",
       "      <td>19.63154</td>\n",
       "      <td>19.48602</td>\n",
       "      <td>19.19663</td>\n",
       "      <td>18.75605</td>\n",
       "      <td>18.82092</td>\n",
       "      <td>19.94810</td>\n",
       "      <td>19.73573</td>\n",
       "      <td>19.39360</td>\n",
       "      <td>...</td>\n",
       "      <td>19.61060</td>\n",
       "      <td>19.32184</td>\n",
       "      <td>18.93773</td>\n",
       "      <td>18.49994</td>\n",
       "      <td>18.31607</td>\n",
       "      <td>19.52231</td>\n",
       "      <td>19.29745</td>\n",
       "      <td>18.95885</td>\n",
       "      <td>18.51906</td>\n",
       "      <td>18.56078</td>\n",
       "    </tr>\n",
       "    <tr>\n",
       "      <th>2</th>\n",
       "      <td>1416396</td>\n",
       "      <td>166</td>\n",
       "      <td>19.16294</td>\n",
       "      <td>18.94821</td>\n",
       "      <td>18.77507</td>\n",
       "      <td>18.92679</td>\n",
       "      <td>18.89543</td>\n",
       "      <td>19.47140</td>\n",
       "      <td>19.30156</td>\n",
       "      <td>19.08113</td>\n",
       "      <td>...</td>\n",
       "      <td>19.14995</td>\n",
       "      <td>19.01328</td>\n",
       "      <td>18.78268</td>\n",
       "      <td>18.94584</td>\n",
       "      <td>18.95756</td>\n",
       "      <td>19.13103</td>\n",
       "      <td>18.94504</td>\n",
       "      <td>18.72925</td>\n",
       "      <td>18.89673</td>\n",
       "      <td>18.87700</td>\n",
       "    </tr>\n",
       "    <tr>\n",
       "      <th>3</th>\n",
       "      <td>229542</td>\n",
       "      <td>38</td>\n",
       "      <td>19.28713</td>\n",
       "      <td>19.02645</td>\n",
       "      <td>18.71246</td>\n",
       "      <td>18.30280</td>\n",
       "      <td>18.24522</td>\n",
       "      <td>19.63397</td>\n",
       "      <td>19.34047</td>\n",
       "      <td>19.07622</td>\n",
       "      <td>...</td>\n",
       "      <td>19.30062</td>\n",
       "      <td>19.02987</td>\n",
       "      <td>18.73833</td>\n",
       "      <td>18.31396</td>\n",
       "      <td>18.30046</td>\n",
       "      <td>19.25876</td>\n",
       "      <td>19.01132</td>\n",
       "      <td>18.70494</td>\n",
       "      <td>18.29297</td>\n",
       "      <td>18.23140</td>\n",
       "    </tr>\n",
       "    <tr>\n",
       "      <th>4</th>\n",
       "      <td>482490</td>\n",
       "      <td>304</td>\n",
       "      <td>19.43952</td>\n",
       "      <td>19.22812</td>\n",
       "      <td>19.03674</td>\n",
       "      <td>18.79651</td>\n",
       "      <td>18.71855</td>\n",
       "      <td>19.78950</td>\n",
       "      <td>19.51578</td>\n",
       "      <td>19.38709</td>\n",
       "      <td>...</td>\n",
       "      <td>19.48426</td>\n",
       "      <td>19.23326</td>\n",
       "      <td>19.12450</td>\n",
       "      <td>18.84784</td>\n",
       "      <td>18.83571</td>\n",
       "      <td>19.43872</td>\n",
       "      <td>19.20541</td>\n",
       "      <td>19.04823</td>\n",
       "      <td>18.79752</td>\n",
       "      <td>18.73385</td>\n",
       "    </tr>\n",
       "  </tbody>\n",
       "</table>\n",
       "<p>5 rows × 22 columns</p>\n",
       "</div>"
      ],
      "text/plain": [
       "        id  fiberID  psfMag_u  psfMag_g  psfMag_r  psfMag_i  psfMag_z  \\\n",
       "0    22121      524  20.25184  19.21797  18.81325  18.63427  18.57789   \n",
       "1    28799      281  19.63154  19.48602  19.19663  18.75605  18.82092   \n",
       "2  1416396      166  19.16294  18.94821  18.77507  18.92679  18.89543   \n",
       "3   229542       38  19.28713  19.02645  18.71246  18.30280  18.24522   \n",
       "4   482490      304  19.43952  19.22812  19.03674  18.79651  18.71855   \n",
       "\n",
       "   fiberMag_u  fiberMag_g  fiberMag_r  ...  petroMag_u  petroMag_g  \\\n",
       "0    20.55951    19.53614    19.14778  ...    20.31346    19.24276   \n",
       "1    19.94810    19.73573    19.39360  ...    19.61060    19.32184   \n",
       "2    19.47140    19.30156    19.08113  ...    19.14995    19.01328   \n",
       "3    19.63397    19.34047    19.07622  ...    19.30062    19.02987   \n",
       "4    19.78950    19.51578    19.38709  ...    19.48426    19.23326   \n",
       "\n",
       "   petroMag_r  petroMag_i  petroMag_z  modelMag_u  modelMag_g  modelMag_r  \\\n",
       "0    18.84517    18.65059    18.63834    20.24235    19.21357    18.80395   \n",
       "1    18.93773    18.49994    18.31607    19.52231    19.29745    18.95885   \n",
       "2    18.78268    18.94584    18.95756    19.13103    18.94504    18.72925   \n",
       "3    18.73833    18.31396    18.30046    19.25876    19.01132    18.70494   \n",
       "4    19.12450    18.84784    18.83571    19.43872    19.20541    19.04823   \n",
       "\n",
       "   modelMag_i  modelMag_z  \n",
       "0    18.62018    18.57158  \n",
       "1    18.51906    18.56078  \n",
       "2    18.89673    18.87700  \n",
       "3    18.29297    18.23140  \n",
       "4    18.79752    18.73385  \n",
       "\n",
       "[5 rows x 22 columns]"
      ]
     },
     "execution_count": 13,
     "metadata": {},
     "output_type": "execute_result"
    }
   ],
   "source": [
    "mytest.head()"
   ]
  },
  {
   "cell_type": "code",
   "execution_count": null,
   "metadata": {},
   "outputs": [],
   "source": []
  }
 ],
 "metadata": {
  "kernelspec": {
   "display_name": "Python 3",
   "language": "python",
   "name": "python3"
  },
  "language_info": {
   "codemirror_mode": {
    "name": "ipython",
    "version": 3
   },
   "file_extension": ".py",
   "mimetype": "text/x-python",
   "name": "python",
   "nbconvert_exporter": "python",
   "pygments_lexer": "ipython3",
   "version": "3.7.3"
  }
 },
 "nbformat": 4,
 "nbformat_minor": 2
}
