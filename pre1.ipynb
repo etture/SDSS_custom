{
 "cells": [
  {
   "cell_type": "code",
   "execution_count": 2,
   "metadata": {},
   "outputs": [],
   "source": [
    "import pandas as pd"
   ]
  },
  {
   "cell_type": "code",
   "execution_count": 4,
   "metadata": {},
   "outputs": [],
   "source": [
    "p4 = pd.read_csv('./SDSSPhotoObjDR8Attempt4_etture.csv')"
   ]
  },
  {
   "cell_type": "code",
   "execution_count": 5,
   "metadata": {},
   "outputs": [],
   "source": [
    "def preprocess_photo(dset):\n",
    "    dropped = dset.drop(columns=['ra', 'dec', 'type', 'mjd'])\n",
    "    renamed = dropped.rename(columns={'objType': 'type'})\n",
    "    del dropped\n",
    "    cols = renamed.columns\n",
    "    cols_rearranged = [[cols[1]], [cols[0]], cols[7:12], cols[17:], cols[2:7], cols[12:17]]\n",
    "    cols_rearranged = pd.Index([item for sublist in cols_rearranged for item in sublist])\n",
    "    renamed = renamed[cols_rearranged]\n",
    "    renamed['id'] = renamed.index\n",
    "    final_cols = [renamed.columns[-1]]\n",
    "    final_cols.extend(renamed.columns[:-1])\n",
    "    final_cols = pd.Index(final_cols)\n",
    "    reordered = renamed[final_cols]\n",
    "    del renamed\n",
    "    filtered = reordered[~reordered['type'].isin(['NONLEGACY', 'QA', 'HOT_STD'])]\n",
    "    del reordered\n",
    "    final_cols2 = ['id', 'type', 'fiberID']\n",
    "    final_cols2.extend(filtered.columns[3:])\n",
    "    final_dset = filtered[final_cols2]\n",
    "    del filtered\n",
    "    return final_dset"
   ]
  },
  {
   "cell_type": "code",
   "execution_count": 7,
   "metadata": {},
   "outputs": [],
   "source": [
    "def get_ratios(dataset, target_col):\n",
    "    cnt_dict = {type_key: 0 for type_key in dataset[target_col].unique()}\n",
    "    for t in dataset[target_col]:\n",
    "        cnt_dict[t] += 1\n",
    "    total = len(dataset)\n",
    "    ratio_dict = dict()\n",
    "    for k in cnt_dict.keys():\n",
    "        cnt = cnt_dict[k]\n",
    "        ratio_dict[k] = cnt / total\n",
    "    return ratio_dict"
   ]
  },
  {
   "cell_type": "code",
   "execution_count": 8,
   "metadata": {},
   "outputs": [],
   "source": [
    "p4_df = preprocess_photo(p4)"
   ]
  },
  {
   "cell_type": "code",
   "execution_count": 9,
   "metadata": {},
   "outputs": [
    {
     "data": {
      "text/plain": [
       "812353"
      ]
     },
     "execution_count": 9,
     "metadata": {},
     "output_type": "execute_result"
    }
   ],
   "source": [
    "len(p4_df)"
   ]
  },
  {
   "cell_type": "code",
   "execution_count": 10,
   "metadata": {},
   "outputs": [],
   "source": [
    "train = pd.read_csv('./train.csv')"
   ]
  },
  {
   "cell_type": "code",
   "execution_count": 11,
   "metadata": {},
   "outputs": [
    {
     "data": {
      "text/plain": [
       "199991"
      ]
     },
     "execution_count": 11,
     "metadata": {},
     "output_type": "execute_result"
    }
   ],
   "source": [
    "len(train)"
   ]
  },
  {
   "cell_type": "code",
   "execution_count": 12,
   "metadata": {},
   "outputs": [],
   "source": [
    "p5 = pd.read_csv('./SDSSPhotoObjDR8Attempt5_etture_0.csv')"
   ]
  },
  {
   "cell_type": "code",
   "execution_count": 13,
   "metadata": {},
   "outputs": [],
   "source": [
    "p5_df = preprocess_photo(p5)"
   ]
  },
  {
   "cell_type": "code",
   "execution_count": 14,
   "metadata": {},
   "outputs": [
    {
     "data": {
      "text/plain": [
       "1158852"
      ]
     },
     "execution_count": 14,
     "metadata": {},
     "output_type": "execute_result"
    }
   ],
   "source": [
    "len(p5_df)"
   ]
  },
  {
   "cell_type": "code",
   "execution_count": 22,
   "metadata": {},
   "outputs": [
    {
     "data": {
      "text/plain": [
       "1755818"
      ]
     },
     "execution_count": 22,
     "metadata": {},
     "output_type": "execute_result"
    }
   ],
   "source": [
    "len(p5)"
   ]
  },
  {
   "cell_type": "code",
   "execution_count": 17,
   "metadata": {},
   "outputs": [],
   "source": [
    "p5_ratio = get_ratios(p5_df, 'type')"
   ]
  },
  {
   "cell_type": "code",
   "execution_count": 18,
   "metadata": {},
   "outputs": [],
   "source": [
    "train_ratio = get_ratios(train, 'type')"
   ]
  },
  {
   "cell_type": "code",
   "execution_count": 19,
   "metadata": {},
   "outputs": [
    {
     "data": {
      "text/plain": [
       "{'QSO': 0.1392662738641345,\n",
       " 'GALAXY': 0.7265509314390448,\n",
       " 'SERENDIPITY_BLUE': 0.019734185210881112,\n",
       " 'STAR_SUB_DWARF': 0.0009914984829814334,\n",
       " 'SKY': 0.03744654192252332,\n",
       " 'SPECTROPHOTO_STD': 0.013271755150787158,\n",
       " 'STAR_WHITE_DWARF': 0.0019605609689589353,\n",
       " 'STAR_CARBON': 0.002918405456434471,\n",
       " 'STAR_CATY_VAR': 0.00589548967426384,\n",
       " 'STAR_RED_DWARF': 0.009177185697569664,\n",
       " 'STAR_BHB': 0.012251780210069965,\n",
       " 'ROSAT_D': 0.005642653246488766,\n",
       " 'SERENDIPITY_DISTANT': 0.004225733743394325,\n",
       " 'REDDEN_STD': 0.013250182076744917,\n",
       " 'SERENDIPITY_FIRST': 0.005804019840324735,\n",
       " 'SERENDIPITY_RED': 0.0013314901298871642,\n",
       " 'SERENDIPITY_MANUAL': 4.6597839931242296e-05,\n",
       " 'STAR_BROWN_DWARF': 0.00022263412411593542,\n",
       " 'STAR_PN': 1.208092146365541e-05}"
      ]
     },
     "execution_count": 19,
     "metadata": {},
     "output_type": "execute_result"
    }
   ],
   "source": [
    "p5_ratio"
   ]
  },
  {
   "cell_type": "code",
   "execution_count": 20,
   "metadata": {},
   "outputs": [
    {
     "data": {
      "text/plain": [
       "{'QSO': 0.24841117850303263,\n",
       " 'STAR_RED_DWARF': 0.06875309388922501,\n",
       " 'SERENDIPITY_BLUE': 0.10880489622032992,\n",
       " 'STAR_BHB': 0.06750303763669366,\n",
       " 'STAR_CATY_VAR': 0.03253146391587621,\n",
       " 'SERENDIPITY_DISTANT': 0.02327104719712387,\n",
       " 'GALAXY': 0.1867434034531554,\n",
       " 'SPECTROPHOTO_STD': 0.07315329189813542,\n",
       " 'REDDEN_STD': 0.07309328919801392,\n",
       " 'ROSAT_D': 0.0329014805666255,\n",
       " 'STAR_WHITE_DWARF': 0.010800486021870984,\n",
       " 'SERENDIPITY_RED': 0.012810576475941417,\n",
       " 'STAR_CARBON': 0.01628573285797861,\n",
       " 'SERENDIPITY_FIRST': 0.03566160477221475,\n",
       " 'STAR_BROWN_DWARF': 0.002500112505062728,\n",
       " 'STAR_SUB_DWARF': 0.005770259661684776,\n",
       " 'SKY': 0.0006350285762859329,\n",
       " 'SERENDIPITY_MANUAL': 0.0003050137256176528,\n",
       " 'STAR_PN': 6.500292513163093e-05}"
      ]
     },
     "execution_count": 20,
     "metadata": {},
     "output_type": "execute_result"
    }
   ],
   "source": [
    "train_ratio"
   ]
  },
  {
   "cell_type": "code",
   "execution_count": 49,
   "metadata": {},
   "outputs": [
    {
     "name": "stdout",
     "output_type": "stream",
     "text": [
      "QSO====\n",
      "train: 49680.0, p5: 161389.0\n",
      "STAR_RED_DWARF====\n",
      "train: 13750.0, p5: 10635.0\n",
      "SERENDIPITY_BLUE====\n",
      "train: 21760.0, p5: 22869.0\n",
      "STAR_BHB====\n",
      "train: 13500.000000000002, p5: 14198.0\n",
      "STAR_CATY_VAR====\n",
      "train: 6505.999999999999, p5: 6832.0\n",
      "SERENDIPITY_DISTANT====\n",
      "train: 4654.0, p5: 4897.0\n",
      "GALAXY====\n",
      "train: 37347.0, p5: 841965.0\n",
      "SPECTROPHOTO_STD====\n",
      "train: 14630.000000000002, p5: 15380.0\n",
      "REDDEN_STD====\n",
      "train: 14618.000000000002, p5: 15355.0\n",
      "ROSAT_D====\n",
      "train: 6580.0, p5: 6539.0\n",
      "STAR_WHITE_DWARF====\n",
      "train: 2160.0, p5: 2272.0\n",
      "SERENDIPITY_RED====\n",
      "train: 2562.0, p5: 1543.0\n",
      "STAR_CARBON====\n",
      "train: 3257.0, p5: 3382.0\n",
      "SERENDIPITY_FIRST====\n",
      "train: 7132.0, p5: 6726.0\n",
      "STAR_BROWN_DWARF====\n",
      "train: 500.0, p5: 258.0\n",
      "STAR_SUB_DWARF====\n",
      "train: 1154.0, p5: 1149.0\n",
      "SKY====\n",
      "train: 127.0, p5: 43394.99999999999\n",
      "SERENDIPITY_MANUAL====\n",
      "train: 61.0, p5: 54.0\n",
      "STAR_PN====\n",
      "train: 13.000000000000002, p5: 14.0\n"
     ]
    }
   ],
   "source": [
    "train_size = len(train)\n",
    "p5_size = len(p5_df)\n",
    "p5_cnt = 0\n",
    "for k in train_ratio.keys():\n",
    "    print(f'{k}====\\ntrain: {train_ratio[k] * train_size}, p5: {p5_ratio[k] *  p5_size}')\n",
    "    p5_cnt += p5_ratio[k] * p5_size"
   ]
  },
  {
   "cell_type": "code",
   "execution_count": 50,
   "metadata": {},
   "outputs": [
    {
     "data": {
      "text/plain": [
       "1158852.0"
      ]
     },
     "execution_count": 50,
     "metadata": {},
     "output_type": "execute_result"
    }
   ],
   "source": [
    "p5_cnt"
   ]
  },
  {
   "cell_type": "code",
   "execution_count": 42,
   "metadata": {},
   "outputs": [
    {
     "data": {
      "text/plain": [
       "14"
      ]
     },
     "execution_count": 42,
     "metadata": {},
     "output_type": "execute_result"
    }
   ],
   "source": [
    "len(p5_df[p5_df['type'] == 'STAR_PN'])"
   ]
  },
  {
   "cell_type": "code",
   "execution_count": 43,
   "metadata": {},
   "outputs": [],
   "source": [
    "sample_nums = {'QSO': 50000,\n",
    " 'STAR_RED_DWARF': 10635,\n",
    " 'SERENDIPITY_BLUE': 22869,\n",
    " 'STAR_BHB': 14198,\n",
    " 'STAR_CATY_VAR': 6832,\n",
    " 'SERENDIPITY_DISTANT': 4897,\n",
    " 'GALAXY': 40000,\n",
    " 'SPECTROPHOTO_STD': 15380,\n",
    " 'REDDEN_STD': 15355,\n",
    " 'ROSAT_D': 6539,\n",
    " 'STAR_WHITE_DWARF': 2272,\n",
    " 'SERENDIPITY_RED': 1543,\n",
    " 'STAR_CARBON': 3382,\n",
    " 'SERENDIPITY_FIRST': 6726,\n",
    " 'STAR_BROWN_DWARF': 258,\n",
    " 'STAR_SUB_DWARF': 1149,\n",
    " 'SKY': 200,\n",
    " 'SERENDIPITY_MANUAL': 54,\n",
    " 'STAR_PN': 14}"
   ]
  },
  {
   "cell_type": "code",
   "execution_count": 44,
   "metadata": {},
   "outputs": [],
   "source": [
    "test = pd.read_csv('./test.csv')"
   ]
  },
  {
   "cell_type": "code",
   "execution_count": 46,
   "metadata": {},
   "outputs": [
    {
     "data": {
      "text/html": [
       "<div>\n",
       "<style scoped>\n",
       "    .dataframe tbody tr th:only-of-type {\n",
       "        vertical-align: middle;\n",
       "    }\n",
       "\n",
       "    .dataframe tbody tr th {\n",
       "        vertical-align: top;\n",
       "    }\n",
       "\n",
       "    .dataframe thead th {\n",
       "        text-align: right;\n",
       "    }\n",
       "</style>\n",
       "<table border=\"1\" class=\"dataframe\">\n",
       "  <thead>\n",
       "    <tr style=\"text-align: right;\">\n",
       "      <th></th>\n",
       "      <th>id</th>\n",
       "      <th>fiberID</th>\n",
       "      <th>psfMag_u</th>\n",
       "      <th>psfMag_g</th>\n",
       "      <th>psfMag_r</th>\n",
       "      <th>psfMag_i</th>\n",
       "      <th>psfMag_z</th>\n",
       "      <th>fiberMag_u</th>\n",
       "      <th>fiberMag_g</th>\n",
       "      <th>fiberMag_r</th>\n",
       "      <th>...</th>\n",
       "      <th>petroMag_u</th>\n",
       "      <th>petroMag_g</th>\n",
       "      <th>petroMag_r</th>\n",
       "      <th>petroMag_i</th>\n",
       "      <th>petroMag_z</th>\n",
       "      <th>modelMag_u</th>\n",
       "      <th>modelMag_g</th>\n",
       "      <th>modelMag_r</th>\n",
       "      <th>modelMag_i</th>\n",
       "      <th>modelMag_z</th>\n",
       "    </tr>\n",
       "  </thead>\n",
       "  <tbody>\n",
       "    <tr>\n",
       "      <th>0</th>\n",
       "      <td>199991</td>\n",
       "      <td>251</td>\n",
       "      <td>23.817399</td>\n",
       "      <td>22.508963</td>\n",
       "      <td>20.981106</td>\n",
       "      <td>18.517316</td>\n",
       "      <td>17.076079</td>\n",
       "      <td>25.053890</td>\n",
       "      <td>23.167848</td>\n",
       "      <td>21.335901</td>\n",
       "      <td>...</td>\n",
       "      <td>22.246697</td>\n",
       "      <td>22.796239</td>\n",
       "      <td>21.195315</td>\n",
       "      <td>18.584486</td>\n",
       "      <td>17.154284</td>\n",
       "      <td>25.391534</td>\n",
       "      <td>22.499435</td>\n",
       "      <td>21.011918</td>\n",
       "      <td>18.499341</td>\n",
       "      <td>17.091474</td>\n",
       "    </tr>\n",
       "    <tr>\n",
       "      <th>1</th>\n",
       "      <td>199992</td>\n",
       "      <td>386</td>\n",
       "      <td>22.806983</td>\n",
       "      <td>21.937111</td>\n",
       "      <td>20.335770</td>\n",
       "      <td>20.000512</td>\n",
       "      <td>19.527369</td>\n",
       "      <td>22.498565</td>\n",
       "      <td>22.186000</td>\n",
       "      <td>20.618879</td>\n",
       "      <td>...</td>\n",
       "      <td>21.729831</td>\n",
       "      <td>21.837511</td>\n",
       "      <td>20.196128</td>\n",
       "      <td>19.967204</td>\n",
       "      <td>19.683671</td>\n",
       "      <td>22.475338</td>\n",
       "      <td>21.853442</td>\n",
       "      <td>20.173169</td>\n",
       "      <td>19.796757</td>\n",
       "      <td>19.567372</td>\n",
       "    </tr>\n",
       "    <tr>\n",
       "      <th>2</th>\n",
       "      <td>199993</td>\n",
       "      <td>232</td>\n",
       "      <td>21.024250</td>\n",
       "      <td>19.235669</td>\n",
       "      <td>18.304061</td>\n",
       "      <td>17.808608</td>\n",
       "      <td>17.380113</td>\n",
       "      <td>21.205546</td>\n",
       "      <td>19.439533</td>\n",
       "      <td>18.344433</td>\n",
       "      <td>...</td>\n",
       "      <td>20.722629</td>\n",
       "      <td>18.710223</td>\n",
       "      <td>17.611851</td>\n",
       "      <td>17.158519</td>\n",
       "      <td>16.843986</td>\n",
       "      <td>20.579314</td>\n",
       "      <td>18.653338</td>\n",
       "      <td>17.562108</td>\n",
       "      <td>17.120529</td>\n",
       "      <td>16.708748</td>\n",
       "    </tr>\n",
       "    <tr>\n",
       "      <th>3</th>\n",
       "      <td>199994</td>\n",
       "      <td>557</td>\n",
       "      <td>20.503424</td>\n",
       "      <td>20.286261</td>\n",
       "      <td>20.197204</td>\n",
       "      <td>20.162419</td>\n",
       "      <td>20.059832</td>\n",
       "      <td>20.976132</td>\n",
       "      <td>20.611498</td>\n",
       "      <td>20.567262</td>\n",
       "      <td>...</td>\n",
       "      <td>20.329269</td>\n",
       "      <td>20.385262</td>\n",
       "      <td>20.129157</td>\n",
       "      <td>20.206574</td>\n",
       "      <td>20.212342</td>\n",
       "      <td>20.479879</td>\n",
       "      <td>20.280943</td>\n",
       "      <td>20.150499</td>\n",
       "      <td>20.206221</td>\n",
       "      <td>20.092909</td>\n",
       "    </tr>\n",
       "    <tr>\n",
       "      <th>4</th>\n",
       "      <td>199995</td>\n",
       "      <td>75</td>\n",
       "      <td>24.244851</td>\n",
       "      <td>22.668237</td>\n",
       "      <td>21.239333</td>\n",
       "      <td>19.284777</td>\n",
       "      <td>18.235939</td>\n",
       "      <td>25.681860</td>\n",
       "      <td>22.935289</td>\n",
       "      <td>21.642456</td>\n",
       "      <td>...</td>\n",
       "      <td>22.308298</td>\n",
       "      <td>22.957496</td>\n",
       "      <td>21.285033</td>\n",
       "      <td>19.299120</td>\n",
       "      <td>18.307526</td>\n",
       "      <td>25.489360</td>\n",
       "      <td>22.857290</td>\n",
       "      <td>21.191862</td>\n",
       "      <td>19.237964</td>\n",
       "      <td>18.280368</td>\n",
       "    </tr>\n",
       "  </tbody>\n",
       "</table>\n",
       "<p>5 rows × 22 columns</p>\n",
       "</div>"
      ],
      "text/plain": [
       "       id  fiberID   psfMag_u   psfMag_g   psfMag_r   psfMag_i   psfMag_z  \\\n",
       "0  199991      251  23.817399  22.508963  20.981106  18.517316  17.076079   \n",
       "1  199992      386  22.806983  21.937111  20.335770  20.000512  19.527369   \n",
       "2  199993      232  21.024250  19.235669  18.304061  17.808608  17.380113   \n",
       "3  199994      557  20.503424  20.286261  20.197204  20.162419  20.059832   \n",
       "4  199995       75  24.244851  22.668237  21.239333  19.284777  18.235939   \n",
       "\n",
       "   fiberMag_u  fiberMag_g  fiberMag_r  ...  petroMag_u  petroMag_g  \\\n",
       "0   25.053890   23.167848   21.335901  ...   22.246697   22.796239   \n",
       "1   22.498565   22.186000   20.618879  ...   21.729831   21.837511   \n",
       "2   21.205546   19.439533   18.344433  ...   20.722629   18.710223   \n",
       "3   20.976132   20.611498   20.567262  ...   20.329269   20.385262   \n",
       "4   25.681860   22.935289   21.642456  ...   22.308298   22.957496   \n",
       "\n",
       "   petroMag_r  petroMag_i  petroMag_z  modelMag_u  modelMag_g  modelMag_r  \\\n",
       "0   21.195315   18.584486   17.154284   25.391534   22.499435   21.011918   \n",
       "1   20.196128   19.967204   19.683671   22.475338   21.853442   20.173169   \n",
       "2   17.611851   17.158519   16.843986   20.579314   18.653338   17.562108   \n",
       "3   20.129157   20.206574   20.212342   20.479879   20.280943   20.150499   \n",
       "4   21.285033   19.299120   18.307526   25.489360   22.857290   21.191862   \n",
       "\n",
       "   modelMag_i  modelMag_z  \n",
       "0   18.499341   17.091474  \n",
       "1   19.796757   19.567372  \n",
       "2   17.120529   16.708748  \n",
       "3   20.206221   20.092909  \n",
       "4   19.237964   18.280368  \n",
       "\n",
       "[5 rows x 22 columns]"
      ]
     },
     "execution_count": 46,
     "metadata": {},
     "output_type": "execute_result"
    }
   ],
   "source": [
    "test.head()"
   ]
  },
  {
   "cell_type": "code",
   "execution_count": 47,
   "metadata": {},
   "outputs": [],
   "source": [
    "summ = 0\n",
    "for v in sample_nums.values():\n",
    "    summ += v"
   ]
  },
  {
   "cell_type": "code",
   "execution_count": 48,
   "metadata": {},
   "outputs": [
    {
     "data": {
      "text/plain": [
       "202303"
      ]
     },
     "execution_count": 48,
     "metadata": {},
     "output_type": "execute_result"
    }
   ],
   "source": [
    "summ"
   ]
  },
  {
   "cell_type": "code",
   "execution_count": 54,
   "metadata": {},
   "outputs": [
    {
     "data": {
      "text/plain": [
       "151727.25"
      ]
     },
     "execution_count": 54,
     "metadata": {},
     "output_type": "execute_result"
    }
   ],
   "source": [
    "summ * 0.75"
   ]
  },
  {
   "cell_type": "code",
   "execution_count": 55,
   "metadata": {},
   "outputs": [
    {
     "data": {
      "text/plain": [
       "10115.150000000001"
      ]
     },
     "execution_count": 55,
     "metadata": {},
     "output_type": "execute_result"
    }
   ],
   "source": [
    "summ * 0.05"
   ]
  },
  {
   "cell_type": "code",
   "execution_count": 56,
   "metadata": {},
   "outputs": [
    {
     "data": {
      "text/plain": [
       "40460.600000000006"
      ]
     },
     "execution_count": 56,
     "metadata": {},
     "output_type": "execute_result"
    }
   ],
   "source": [
    "summ * 0.2"
   ]
  },
  {
   "cell_type": "code",
   "execution_count": 57,
   "metadata": {},
   "outputs": [
    {
     "data": {
      "text/plain": [
       "7.5"
      ]
     },
     "execution_count": 57,
     "metadata": {},
     "output_type": "execute_result"
    }
   ],
   "source": [
    "25 *  0.3"
   ]
  },
  {
   "cell_type": "code",
   "execution_count": 58,
   "metadata": {},
   "outputs": [
    {
     "data": {
      "text/plain": [
       "17.5"
      ]
     },
     "execution_count": 58,
     "metadata": {},
     "output_type": "execute_result"
    }
   ],
   "source": [
    "25 * 0.7"
   ]
  },
  {
   "cell_type": "code",
   "execution_count": 59,
   "metadata": {},
   "outputs": [
    {
     "data": {
      "text/plain": [
       "15172.724999999999"
      ]
     },
     "execution_count": 59,
     "metadata": {},
     "output_type": "execute_result"
    }
   ],
   "source": [
    "summ  *  0.075"
   ]
  },
  {
   "cell_type": "code",
   "execution_count": 60,
   "metadata": {},
   "outputs": [
    {
     "data": {
      "text/plain": [
       "35403.024999999994"
      ]
     },
     "execution_count": 60,
     "metadata": {},
     "output_type": "execute_result"
    }
   ],
   "source": [
    "summ *  0.175"
   ]
  },
  {
   "cell_type": "code",
   "execution_count": 66,
   "metadata": {},
   "outputs": [
    {
     "data": {
      "text/plain": [
       "182072.7"
      ]
     },
     "execution_count": 66,
     "metadata": {},
     "output_type": "execute_result"
    }
   ],
   "source": [
    "summ *  0.9"
   ]
  },
  {
   "cell_type": "code",
   "execution_count": 67,
   "metadata": {},
   "outputs": [
    {
     "data": {
      "text/plain": [
       "20230.300000000003"
      ]
     },
     "execution_count": 67,
     "metadata": {},
     "output_type": "execute_result"
    }
   ],
   "source": [
    "summ * 0.1"
   ]
  },
  {
   "cell_type": "code",
   "execution_count": 70,
   "metadata": {},
   "outputs": [
    {
     "data": {
      "text/html": [
       "<div>\n",
       "<style scoped>\n",
       "    .dataframe tbody tr th:only-of-type {\n",
       "        vertical-align: middle;\n",
       "    }\n",
       "\n",
       "    .dataframe tbody tr th {\n",
       "        vertical-align: top;\n",
       "    }\n",
       "\n",
       "    .dataframe thead th {\n",
       "        text-align: right;\n",
       "    }\n",
       "</style>\n",
       "<table border=\"1\" class=\"dataframe\">\n",
       "  <thead>\n",
       "    <tr style=\"text-align: right;\">\n",
       "      <th></th>\n",
       "      <th>id</th>\n",
       "      <th>fiberID</th>\n",
       "      <th>psfMag_u</th>\n",
       "      <th>psfMag_g</th>\n",
       "      <th>psfMag_r</th>\n",
       "      <th>psfMag_i</th>\n",
       "      <th>psfMag_z</th>\n",
       "      <th>fiberMag_u</th>\n",
       "      <th>fiberMag_g</th>\n",
       "      <th>fiberMag_r</th>\n",
       "      <th>...</th>\n",
       "      <th>petroMag_u</th>\n",
       "      <th>petroMag_g</th>\n",
       "      <th>petroMag_r</th>\n",
       "      <th>petroMag_i</th>\n",
       "      <th>petroMag_z</th>\n",
       "      <th>modelMag_u</th>\n",
       "      <th>modelMag_g</th>\n",
       "      <th>modelMag_r</th>\n",
       "      <th>modelMag_i</th>\n",
       "      <th>modelMag_z</th>\n",
       "    </tr>\n",
       "  </thead>\n",
       "  <tbody>\n",
       "    <tr>\n",
       "      <th>0</th>\n",
       "      <td>199991</td>\n",
       "      <td>251</td>\n",
       "      <td>23.817399</td>\n",
       "      <td>22.508963</td>\n",
       "      <td>20.981106</td>\n",
       "      <td>18.517316</td>\n",
       "      <td>17.076079</td>\n",
       "      <td>25.053890</td>\n",
       "      <td>23.167848</td>\n",
       "      <td>21.335901</td>\n",
       "      <td>...</td>\n",
       "      <td>22.246697</td>\n",
       "      <td>22.796239</td>\n",
       "      <td>21.195315</td>\n",
       "      <td>18.584486</td>\n",
       "      <td>17.154284</td>\n",
       "      <td>25.391534</td>\n",
       "      <td>22.499435</td>\n",
       "      <td>21.011918</td>\n",
       "      <td>18.499341</td>\n",
       "      <td>17.091474</td>\n",
       "    </tr>\n",
       "    <tr>\n",
       "      <th>1</th>\n",
       "      <td>199992</td>\n",
       "      <td>386</td>\n",
       "      <td>22.806983</td>\n",
       "      <td>21.937111</td>\n",
       "      <td>20.335770</td>\n",
       "      <td>20.000512</td>\n",
       "      <td>19.527369</td>\n",
       "      <td>22.498565</td>\n",
       "      <td>22.186000</td>\n",
       "      <td>20.618879</td>\n",
       "      <td>...</td>\n",
       "      <td>21.729831</td>\n",
       "      <td>21.837511</td>\n",
       "      <td>20.196128</td>\n",
       "      <td>19.967204</td>\n",
       "      <td>19.683671</td>\n",
       "      <td>22.475338</td>\n",
       "      <td>21.853442</td>\n",
       "      <td>20.173169</td>\n",
       "      <td>19.796757</td>\n",
       "      <td>19.567372</td>\n",
       "    </tr>\n",
       "    <tr>\n",
       "      <th>2</th>\n",
       "      <td>199993</td>\n",
       "      <td>232</td>\n",
       "      <td>21.024250</td>\n",
       "      <td>19.235669</td>\n",
       "      <td>18.304061</td>\n",
       "      <td>17.808608</td>\n",
       "      <td>17.380113</td>\n",
       "      <td>21.205546</td>\n",
       "      <td>19.439533</td>\n",
       "      <td>18.344433</td>\n",
       "      <td>...</td>\n",
       "      <td>20.722629</td>\n",
       "      <td>18.710223</td>\n",
       "      <td>17.611851</td>\n",
       "      <td>17.158519</td>\n",
       "      <td>16.843986</td>\n",
       "      <td>20.579314</td>\n",
       "      <td>18.653338</td>\n",
       "      <td>17.562108</td>\n",
       "      <td>17.120529</td>\n",
       "      <td>16.708748</td>\n",
       "    </tr>\n",
       "    <tr>\n",
       "      <th>3</th>\n",
       "      <td>199994</td>\n",
       "      <td>557</td>\n",
       "      <td>20.503424</td>\n",
       "      <td>20.286261</td>\n",
       "      <td>20.197204</td>\n",
       "      <td>20.162419</td>\n",
       "      <td>20.059832</td>\n",
       "      <td>20.976132</td>\n",
       "      <td>20.611498</td>\n",
       "      <td>20.567262</td>\n",
       "      <td>...</td>\n",
       "      <td>20.329269</td>\n",
       "      <td>20.385262</td>\n",
       "      <td>20.129157</td>\n",
       "      <td>20.206574</td>\n",
       "      <td>20.212342</td>\n",
       "      <td>20.479879</td>\n",
       "      <td>20.280943</td>\n",
       "      <td>20.150499</td>\n",
       "      <td>20.206221</td>\n",
       "      <td>20.092909</td>\n",
       "    </tr>\n",
       "    <tr>\n",
       "      <th>4</th>\n",
       "      <td>199995</td>\n",
       "      <td>75</td>\n",
       "      <td>24.244851</td>\n",
       "      <td>22.668237</td>\n",
       "      <td>21.239333</td>\n",
       "      <td>19.284777</td>\n",
       "      <td>18.235939</td>\n",
       "      <td>25.681860</td>\n",
       "      <td>22.935289</td>\n",
       "      <td>21.642456</td>\n",
       "      <td>...</td>\n",
       "      <td>22.308298</td>\n",
       "      <td>22.957496</td>\n",
       "      <td>21.285033</td>\n",
       "      <td>19.299120</td>\n",
       "      <td>18.307526</td>\n",
       "      <td>25.489360</td>\n",
       "      <td>22.857290</td>\n",
       "      <td>21.191862</td>\n",
       "      <td>19.237964</td>\n",
       "      <td>18.280368</td>\n",
       "    </tr>\n",
       "  </tbody>\n",
       "</table>\n",
       "<p>5 rows × 22 columns</p>\n",
       "</div>"
      ],
      "text/plain": [
       "       id  fiberID   psfMag_u   psfMag_g   psfMag_r   psfMag_i   psfMag_z  \\\n",
       "0  199991      251  23.817399  22.508963  20.981106  18.517316  17.076079   \n",
       "1  199992      386  22.806983  21.937111  20.335770  20.000512  19.527369   \n",
       "2  199993      232  21.024250  19.235669  18.304061  17.808608  17.380113   \n",
       "3  199994      557  20.503424  20.286261  20.197204  20.162419  20.059832   \n",
       "4  199995       75  24.244851  22.668237  21.239333  19.284777  18.235939   \n",
       "\n",
       "   fiberMag_u  fiberMag_g  fiberMag_r  ...  petroMag_u  petroMag_g  \\\n",
       "0   25.053890   23.167848   21.335901  ...   22.246697   22.796239   \n",
       "1   22.498565   22.186000   20.618879  ...   21.729831   21.837511   \n",
       "2   21.205546   19.439533   18.344433  ...   20.722629   18.710223   \n",
       "3   20.976132   20.611498   20.567262  ...   20.329269   20.385262   \n",
       "4   25.681860   22.935289   21.642456  ...   22.308298   22.957496   \n",
       "\n",
       "   petroMag_r  petroMag_i  petroMag_z  modelMag_u  modelMag_g  modelMag_r  \\\n",
       "0   21.195315   18.584486   17.154284   25.391534   22.499435   21.011918   \n",
       "1   20.196128   19.967204   19.683671   22.475338   21.853442   20.173169   \n",
       "2   17.611851   17.158519   16.843986   20.579314   18.653338   17.562108   \n",
       "3   20.129157   20.206574   20.212342   20.479879   20.280943   20.150499   \n",
       "4   21.285033   19.299120   18.307526   25.489360   22.857290   21.191862   \n",
       "\n",
       "   modelMag_i  modelMag_z  \n",
       "0   18.499341   17.091474  \n",
       "1   19.796757   19.567372  \n",
       "2   17.120529   16.708748  \n",
       "3   20.206221   20.092909  \n",
       "4   19.237964   18.280368  \n",
       "\n",
       "[5 rows x 22 columns]"
      ]
     },
     "execution_count": 70,
     "metadata": {},
     "output_type": "execute_result"
    }
   ],
   "source": [
    "test.head()"
   ]
  },
  {
   "cell_type": "code",
   "execution_count": 72,
   "metadata": {},
   "outputs": [],
   "source": [
    "sub = pd.read_csv('./sample_submission.csv')"
   ]
  },
  {
   "cell_type": "code",
   "execution_count": 73,
   "metadata": {},
   "outputs": [
    {
     "data": {
      "text/html": [
       "<div>\n",
       "<style scoped>\n",
       "    .dataframe tbody tr th:only-of-type {\n",
       "        vertical-align: middle;\n",
       "    }\n",
       "\n",
       "    .dataframe tbody tr th {\n",
       "        vertical-align: top;\n",
       "    }\n",
       "\n",
       "    .dataframe thead th {\n",
       "        text-align: right;\n",
       "    }\n",
       "</style>\n",
       "<table border=\"1\" class=\"dataframe\">\n",
       "  <thead>\n",
       "    <tr style=\"text-align: right;\">\n",
       "      <th></th>\n",
       "      <th>id</th>\n",
       "      <th>STAR_WHITE_DWARF</th>\n",
       "      <th>STAR_CATY_VAR</th>\n",
       "      <th>STAR_BROWN_DWARF</th>\n",
       "      <th>SERENDIPITY_RED</th>\n",
       "      <th>REDDEN_STD</th>\n",
       "      <th>STAR_BHB</th>\n",
       "      <th>GALAXY</th>\n",
       "      <th>SERENDIPITY_DISTANT</th>\n",
       "      <th>QSO</th>\n",
       "      <th>SKY</th>\n",
       "      <th>STAR_RED_DWARF</th>\n",
       "      <th>ROSAT_D</th>\n",
       "      <th>STAR_PN</th>\n",
       "      <th>SERENDIPITY_FIRST</th>\n",
       "      <th>STAR_CARBON</th>\n",
       "      <th>SPECTROPHOTO_STD</th>\n",
       "      <th>STAR_SUB_DWARF</th>\n",
       "      <th>SERENDIPITY_MANUAL</th>\n",
       "      <th>SERENDIPITY_BLUE</th>\n",
       "    </tr>\n",
       "  </thead>\n",
       "  <tbody>\n",
       "    <tr>\n",
       "      <th>0</th>\n",
       "      <td>199991</td>\n",
       "      <td>0.0</td>\n",
       "      <td>0.0</td>\n",
       "      <td>0.0</td>\n",
       "      <td>0.0</td>\n",
       "      <td>0.0</td>\n",
       "      <td>0.0</td>\n",
       "      <td>0.0</td>\n",
       "      <td>0.0</td>\n",
       "      <td>0.0</td>\n",
       "      <td>0.0</td>\n",
       "      <td>0.0</td>\n",
       "      <td>0.0</td>\n",
       "      <td>0.0</td>\n",
       "      <td>0.0</td>\n",
       "      <td>0.0</td>\n",
       "      <td>0.0</td>\n",
       "      <td>0.0</td>\n",
       "      <td>0.0</td>\n",
       "      <td>0.0</td>\n",
       "    </tr>\n",
       "    <tr>\n",
       "      <th>1</th>\n",
       "      <td>199992</td>\n",
       "      <td>0.0</td>\n",
       "      <td>0.0</td>\n",
       "      <td>0.0</td>\n",
       "      <td>0.0</td>\n",
       "      <td>0.0</td>\n",
       "      <td>0.0</td>\n",
       "      <td>0.0</td>\n",
       "      <td>0.0</td>\n",
       "      <td>0.0</td>\n",
       "      <td>0.0</td>\n",
       "      <td>0.0</td>\n",
       "      <td>0.0</td>\n",
       "      <td>0.0</td>\n",
       "      <td>0.0</td>\n",
       "      <td>0.0</td>\n",
       "      <td>0.0</td>\n",
       "      <td>0.0</td>\n",
       "      <td>0.0</td>\n",
       "      <td>0.0</td>\n",
       "    </tr>\n",
       "    <tr>\n",
       "      <th>2</th>\n",
       "      <td>199993</td>\n",
       "      <td>0.0</td>\n",
       "      <td>0.0</td>\n",
       "      <td>0.0</td>\n",
       "      <td>0.0</td>\n",
       "      <td>0.0</td>\n",
       "      <td>0.0</td>\n",
       "      <td>0.0</td>\n",
       "      <td>0.0</td>\n",
       "      <td>0.0</td>\n",
       "      <td>0.0</td>\n",
       "      <td>0.0</td>\n",
       "      <td>0.0</td>\n",
       "      <td>0.0</td>\n",
       "      <td>0.0</td>\n",
       "      <td>0.0</td>\n",
       "      <td>0.0</td>\n",
       "      <td>0.0</td>\n",
       "      <td>0.0</td>\n",
       "      <td>0.0</td>\n",
       "    </tr>\n",
       "    <tr>\n",
       "      <th>3</th>\n",
       "      <td>199994</td>\n",
       "      <td>0.0</td>\n",
       "      <td>0.0</td>\n",
       "      <td>0.0</td>\n",
       "      <td>0.0</td>\n",
       "      <td>0.0</td>\n",
       "      <td>0.0</td>\n",
       "      <td>0.0</td>\n",
       "      <td>0.0</td>\n",
       "      <td>0.0</td>\n",
       "      <td>0.0</td>\n",
       "      <td>0.0</td>\n",
       "      <td>0.0</td>\n",
       "      <td>0.0</td>\n",
       "      <td>0.0</td>\n",
       "      <td>0.0</td>\n",
       "      <td>0.0</td>\n",
       "      <td>0.0</td>\n",
       "      <td>0.0</td>\n",
       "      <td>0.0</td>\n",
       "    </tr>\n",
       "    <tr>\n",
       "      <th>4</th>\n",
       "      <td>199995</td>\n",
       "      <td>0.0</td>\n",
       "      <td>0.0</td>\n",
       "      <td>0.0</td>\n",
       "      <td>0.0</td>\n",
       "      <td>0.0</td>\n",
       "      <td>0.0</td>\n",
       "      <td>0.0</td>\n",
       "      <td>0.0</td>\n",
       "      <td>0.0</td>\n",
       "      <td>0.0</td>\n",
       "      <td>0.0</td>\n",
       "      <td>0.0</td>\n",
       "      <td>0.0</td>\n",
       "      <td>0.0</td>\n",
       "      <td>0.0</td>\n",
       "      <td>0.0</td>\n",
       "      <td>0.0</td>\n",
       "      <td>0.0</td>\n",
       "      <td>0.0</td>\n",
       "    </tr>\n",
       "  </tbody>\n",
       "</table>\n",
       "</div>"
      ],
      "text/plain": [
       "       id  STAR_WHITE_DWARF  STAR_CATY_VAR  STAR_BROWN_DWARF  SERENDIPITY_RED  \\\n",
       "0  199991               0.0            0.0               0.0              0.0   \n",
       "1  199992               0.0            0.0               0.0              0.0   \n",
       "2  199993               0.0            0.0               0.0              0.0   \n",
       "3  199994               0.0            0.0               0.0              0.0   \n",
       "4  199995               0.0            0.0               0.0              0.0   \n",
       "\n",
       "   REDDEN_STD  STAR_BHB  GALAXY  SERENDIPITY_DISTANT  QSO  SKY  \\\n",
       "0         0.0       0.0     0.0                  0.0  0.0  0.0   \n",
       "1         0.0       0.0     0.0                  0.0  0.0  0.0   \n",
       "2         0.0       0.0     0.0                  0.0  0.0  0.0   \n",
       "3         0.0       0.0     0.0                  0.0  0.0  0.0   \n",
       "4         0.0       0.0     0.0                  0.0  0.0  0.0   \n",
       "\n",
       "   STAR_RED_DWARF  ROSAT_D  STAR_PN  SERENDIPITY_FIRST  STAR_CARBON  \\\n",
       "0             0.0      0.0      0.0                0.0          0.0   \n",
       "1             0.0      0.0      0.0                0.0          0.0   \n",
       "2             0.0      0.0      0.0                0.0          0.0   \n",
       "3             0.0      0.0      0.0                0.0          0.0   \n",
       "4             0.0      0.0      0.0                0.0          0.0   \n",
       "\n",
       "   SPECTROPHOTO_STD  STAR_SUB_DWARF  SERENDIPITY_MANUAL  SERENDIPITY_BLUE  \n",
       "0               0.0             0.0                 0.0               0.0  \n",
       "1               0.0             0.0                 0.0               0.0  \n",
       "2               0.0             0.0                 0.0               0.0  \n",
       "3               0.0             0.0                 0.0               0.0  \n",
       "4               0.0             0.0                 0.0               0.0  "
      ]
     },
     "execution_count": 73,
     "metadata": {},
     "output_type": "execute_result"
    }
   ],
   "source": [
    "sub.head()"
   ]
  },
  {
   "cell_type": "code",
   "execution_count": 74,
   "metadata": {},
   "outputs": [
    {
     "data": {
      "text/plain": [
       "526.3157894736842"
      ]
     },
     "execution_count": 74,
     "metadata": {},
     "output_type": "execute_result"
    }
   ],
   "source": [
    "10000 / 19"
   ]
  },
  {
   "cell_type": "code",
   "execution_count": 75,
   "metadata": {},
   "outputs": [
    {
     "data": {
      "text/plain": [
       "631.578947368421"
      ]
     },
     "execution_count": 75,
     "metadata": {},
     "output_type": "execute_result"
    }
   ],
   "source": [
    "12000/19"
   ]
  },
  {
   "cell_type": "code",
   "execution_count": 76,
   "metadata": {},
   "outputs": [
    {
     "data": {
      "text/plain": [
       "11400"
      ]
     },
     "execution_count": 76,
     "metadata": {},
     "output_type": "execute_result"
    }
   ],
   "source": [
    "600*19"
   ]
  },
  {
   "cell_type": "code",
   "execution_count": 79,
   "metadata": {},
   "outputs": [
    {
     "data": {
      "text/plain": [
       "10128"
      ]
     },
     "execution_count": 79,
     "metadata": {},
     "output_type": "execute_result"
    }
   ],
   "source": [
    "800*11 + 1328"
   ]
  },
  {
   "cell_type": "code",
   "execution_count": 80,
   "metadata": {},
   "outputs": [
    {
     "data": {
      "text/plain": [
       "10062"
      ]
     },
     "execution_count": 80,
     "metadata": {},
     "output_type": "execute_result"
    }
   ],
   "source": [
    "8000 + 2062"
   ]
  },
  {
   "cell_type": "code",
   "execution_count": null,
   "metadata": {},
   "outputs": [],
   "source": []
  }
 ],
 "metadata": {
  "kernelspec": {
   "display_name": "Python 3",
   "language": "python",
   "name": "python3"
  },
  "language_info": {
   "codemirror_mode": {
    "name": "ipython",
    "version": 3
   },
   "file_extension": ".py",
   "mimetype": "text/x-python",
   "name": "python",
   "nbconvert_exporter": "python",
   "pygments_lexer": "ipython3",
   "version": "3.7.3"
  }
 },
 "nbformat": 4,
 "nbformat_minor": 2
}
